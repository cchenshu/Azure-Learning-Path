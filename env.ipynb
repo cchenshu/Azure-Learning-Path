{
  "metadata": {
    "language_info": {
      "codemirror_mode": {
        "name": "python",
        "version": 3
      },
      "file_extension": ".py",
      "mimetype": "text/x-python",
      "name": "python",
      "nbconvert_exporter": "python",
      "pygments_lexer": "ipython3",
      "version": "3.8"
    },
    "kernelspec": {
      "name": "python",
      "display_name": "Pyolite",
      "language": "python"
    }
  },
  "nbformat_minor": 4,
  "nbformat": 4,
  "cells": [
    {
      "cell_type": "markdown",
      "source": "set up environment for Mac M1",
      "metadata": {}
    },
    {
      "cell_type": "markdown",
      "source": "Using anaconda",
      "metadata": {}
    },
    {
      "cell_type": "markdown",
      "source": "1.download Anaconda for mac m1 from offical website",
      "metadata": {}
    },
    {
      "cell_type": "markdown",
      "source": "2.if finding: zsh: Command Not Found Conda\n\nfirst open the .zshrc file and then write the following code there",
      "metadata": {}
    },
    {
      "cell_type": "code",
      "source": "export PATH=\"$PATH:/Users/Dz/anaconda/bin:/usr/local/bin:/usr/bin:/bin:/usr/sbin:/sbin:/opt/X11/bin:/Users/Dz/.rvm/bin\"",
      "metadata": {
        "trusted": true
      },
      "execution_count": 1,
      "outputs": [
        {
          "ename": "<class 'SyntaxError'>",
          "evalue": "invalid syntax (<ipython-input-1-eb3280d646db>, line 1)",
          "traceback": [
            "\u001b[0;36m  Input \u001b[0;32mIn [1]\u001b[0;36m\u001b[0m\n\u001b[0;31m    export PATH=\"$PATH:/Users/Dz/anaconda/bin:/usr/local/bin:/usr/bin:/bin:/usr/sbin:/sbin:/opt/X11/bin:/Users/Dz/.rvm/bin\"\u001b[0m\n\u001b[0m           ^\u001b[0m\n\u001b[0;31mSyntaxError\u001b[0m\u001b[0;31m:\u001b[0m invalid syntax\n"
          ],
          "output_type": "error"
        }
      ]
    },
    {
      "cell_type": "markdown",
      "source": "Then, you can run the following command to check it.",
      "metadata": {}
    },
    {
      "cell_type": "code",
      "source": "source ~/.zshrc\necho $HOME\necho $PATH",
      "metadata": {
        "trusted": true
      },
      "execution_count": 2,
      "outputs": [
        {
          "ename": "<class 'SyntaxError'>",
          "evalue": "invalid syntax (<ipython-input-2-48f6b6e41333>, line 1)",
          "traceback": [
            "\u001b[0;36m  Input \u001b[0;32mIn [2]\u001b[0;36m\u001b[0m\n\u001b[0;31m    source ~/.zshrc\u001b[0m\n\u001b[0m           ^\u001b[0m\n\u001b[0;31mSyntaxError\u001b[0m\u001b[0;31m:\u001b[0m invalid syntax\n"
          ],
          "output_type": "error"
        }
      ]
    },
    {
      "cell_type": "markdown",
      "source": "3.Problems installing python packages on Mac M1\n\nusing conda to use python in a virtual environment\n\nFirst Enable the open with rosetta in your zsh.",
      "metadata": {}
    },
    {
      "cell_type": "code",
      "source": "# create environment in conda\nconda create -n venv python=3.8 # with your python version\n\n# activate\nconda activate venv",
      "metadata": {
        "trusted": true
      },
      "execution_count": 3,
      "outputs": [
        {
          "ename": "<class 'SyntaxError'>",
          "evalue": "invalid syntax (<ipython-input-3-d74c67116df6>, line 2)",
          "traceback": [
            "\u001b[0;36m  Input \u001b[0;32mIn [3]\u001b[0;36m\u001b[0m\n\u001b[0;31m    conda create -n venv python=3.8 # with your python version\u001b[0m\n\u001b[0m          ^\u001b[0m\n\u001b[0;31mSyntaxError\u001b[0m\u001b[0;31m:\u001b[0m invalid syntax\n"
          ],
          "output_type": "error"
        }
      ]
    },
    {
      "cell_type": "markdown",
      "source": "You need to enable that specific channel to get that package with this command:",
      "metadata": {}
    },
    {
      "cell_type": "code",
      "source": "# config channel\nconda config --append channels conda-forge # available channel name\n\n# then install\nconda install --yes --file requirements.txt",
      "metadata": {
        "trusted": true
      },
      "execution_count": 4,
      "outputs": [
        {
          "ename": "<class 'SyntaxError'>",
          "evalue": "invalid syntax (<ipython-input-4-a4b415755437>, line 2)",
          "traceback": [
            "\u001b[0;36m  Input \u001b[0;32mIn [4]\u001b[0;36m\u001b[0m\n\u001b[0;31m    conda config --append channels conda-forge # available channel name\u001b[0m\n\u001b[0m          ^\u001b[0m\n\u001b[0;31mSyntaxError\u001b[0m\u001b[0;31m:\u001b[0m invalid syntax\n"
          ],
          "output_type": "error"
        }
      ]
    }
  ]
}